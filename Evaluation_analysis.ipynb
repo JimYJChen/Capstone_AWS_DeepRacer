{
 "cells": [
  {
   "cell_type": "markdown",
   "metadata": {},
   "source": [
    "# Evaluation and submission analysis for DeepRacer\n",
    "\n",
    "This notebook has been built based on the `DeepRacer Log Analysis.ipynb` provided by the AWS DeepRacer Team. It has been reorganised and expanded to provide new views on the evaluation/racing data in a cleaner way, without the helper code which was moved into utility `.py` files.\n",
    "\n",
    "**You will find this notebook most useful for race submissions reviews and because of that it is mostly focusing on this goal.**\n",
    "\n",
    "## Usage\n",
    "\n",
    "I am assuming here that you have already become familiar with `Training_analysis.ipynb`. Therefore descriptions that you will find here may be missing some bits if already described in there.\n",
    "\n",
    "Since this file can change in the future, I recommend that you make its copy and reorganize it to your liking. This way you will not lose your changes and you'll be able to add things as you please.\n",
    "\n",
    "**This notebook isn't complete.** What I find interesting in the logs may not be what you will find interesting and useful. I recommend you get familiar with the tools and try hacking around to get the insights that suit your needs.\n",
    "\n",
    "## Contributions\n",
    "\n",
    "As usual, your ideas are very welcome and encouraged so if you have any suggestions either bring them to [the AWS DeepRacer Community](http://join.deepracing.io) or share as code contributions.\n",
    "\n",
    "## Training environments\n",
    "\n",
    "Depending on whether you're running your evaluations through the console or using the local setup, and on which setup for local training you're using, your experience will vary. As much as I would like everything to be taylored to your configuration, there may be some problems that you may face. If so, please get in touch through [the AWS DeepRacer Community](http://join.deepracing.io).\n",
    "\n",
    "For race submissions it is much more straightforward.\n",
    "\n",
    "## Requirements\n",
    "\n",
    "Before you start using the notebook, you will need to install some dependencies. If you haven't yet done so, have a look at [The README.md file](/edit/README.md#running-the-notebooks) to find what you need to install.\n",
    "\n",
    "Apart from the install, you also have to configure your programmatic access to AWS. Have a look at the guides below, AWS resources will lead you by the hand:\n",
    "\n",
    "AWS CLI: https://docs.aws.amazon.com/cli/latest/userguide/cli-chap-configure.html\n",
    "\n",
    "Boto Configuration: https://boto3.amazonaws.com/v1/documentation/api/latest/guide/configuration.html\n",
    "\n",
    "## Credits\n",
    "\n",
    "I would like to thank [the AWS DeepRacer Community](http://join.deepracing.io) for all the feedback about the notebooks. If you'd like, follow [my blog](https://codelikeamother.uk) where I tend to write about my experiences with AWS DeepRacer.\n",
    "\n",
    "# Log Analysis\n",
    "\n",
    "Let's get to it.\n",
    "\n",
    "## Installs and setups\n",
    "\n",
    "If you are using an AWS SageMaker Notebook or Sagemaker Studio Lab to run the log analysis, you will need to ensure you install required dependencies. To do that uncomment and run the following:"
   ]
  },
  {
   "cell_type": "code",
   "execution_count": 1,
   "metadata": {
    "ExecuteTime": {
     "start_time": "2024-03-11T18:19:25.434192Z",
     "end_time": "2024-03-11T18:19:25.681545Z"
    }
   },
   "outputs": [],
   "source": [
    "# Make sure you have the required pre-reqs\n",
    "\n",
    "# import sys\n",
    "\n",
    "# !{sys.executable} -m pip install --upgrade -r requirements.txt"
   ]
  },
  {
   "cell_type": "markdown",
   "metadata": {},
   "source": [
    "## Imports\n",
    "\n",
    "Run the imports block below:"
   ]
  },
  {
   "cell_type": "code",
   "execution_count": 2,
   "metadata": {
    "ExecuteTime": {
     "start_time": "2024-03-11T18:19:25.435005Z",
     "end_time": "2024-03-11T18:19:25.819920Z"
    }
   },
   "outputs": [],
   "source": [
    "from deepracer.tracks import TrackIO, Track\n",
    "from deepracer.tracks.track_utils import track_meta\n",
    "\n",
    "from deepracer.logs import \\\n",
    "    AnalysisUtils as au, \\\n",
    "    SimulationLogsIO as slio, \\\n",
    "    EvaluationUtils as eu, \\\n",
    "    PlottingUtils as pu, \\\n",
    "    DeepRacerLog, \\\n",
    "    S3FileHandler, FSFileHandler, \\\n",
    "    LogType\n",
    "\n",
    "import os\n",
    "\n",
    "# Ignore deprecation warnings we have no power over\n",
    "import warnings\n",
    "warnings.filterwarnings('ignore')"
   ]
  },
  {
   "cell_type": "markdown",
   "metadata": {},
   "source": [
    "## Login\n",
    "\n",
    "Login to AWS. There are several ways to log in:\n",
    "1. On EC2 instance or Sagemaker Notebook with correct IAM execution role assigned.\n",
    "2. AWS credentials available in `.aws/` through using the `aws configure` command. (DeepRacer-for-Cloud's `dr-start-loganalysis` supports this)\n",
    "3. Setting the relevant environment variables by uncommenting the below section."
   ]
  },
  {
   "cell_type": "code",
   "execution_count": 3,
   "metadata": {
    "ExecuteTime": {
     "start_time": "2024-03-11T18:19:25.754761Z",
     "end_time": "2024-03-11T18:19:25.820268Z"
    }
   },
   "outputs": [],
   "source": [
    "# os.environ[\"AWS_DEFAULT_REGION\"] = \"\" #<-Add your region\n",
    "# os.environ[\"AWS_ACCESS_KEY_ID\"] = \"\" #<-Add your access key\n",
    "# os.environ[\"AWS_SECRET_ACCESS_KEY\"] = \"\" #<-Add you secret access key\n",
    "# os.environ[\"AWS_SESSION_TOKEN\"] = \"\" #<-Add your session key if you have one"
   ]
  },
  {
   "cell_type": "markdown",
   "metadata": {},
   "source": [
    "## Load all race submission logs\n",
    "\n",
    "**WARNING:** If you do not specify `not_older_than` parameter, all evaluation logs will be downloaded. They aren't as big as the training logs, but there is a lot of them.\n",
    "\n",
    "That said you can download all and then it will only download new ones unless you use force=True.\n",
    "\n",
    "There are also `not_older_than` and `older_than` parameters so you can choose to fetch all logs from a given period and compare them against each other. Just remember memory is finite.\n",
    "\n",
    "As mentioned, this method always fetches a list of log streams and then downloads only ones that haven't been downloaded just yet. You can therefore use it to fetch that list and load all the files from the path provided.\n",
    "## Get the logs\n",
    "\n",
    "Depending on which way you are evaluating your model, you will need a slightly different way to load the data. The simplest way to read in evaluation data is using the sim-trace files.\n",
    "\n",
    "For other ways to read in data look at the [configuration examples](https://github.com/aws-deepracer-community/deepracer-utils/blob/master/docs/examples.md)"
   ]
  },
  {
   "cell_type": "code",
   "execution_count": 4,
   "metadata": {
    "ExecuteTime": {
     "start_time": "2024-03-11T18:19:25.758881Z",
     "end_time": "2024-03-11T18:19:25.820443Z"
    }
   },
   "outputs": [],
   "source": [
    "PREFIX='Demo-Reinvent'      # Name of the model, without trailing '/'\n",
    "BUCKET='deepracer-local'    # Bucket name is default 'bucket' when training locally\n",
    "PROFILE=None                # The credentials profile in .aws - 'minio' for local training\n",
    "S3_ENDPOINT_URL=None        # Endpoint URL: None for AWS S3, 'http://minio:9000' for local training"
   ]
  },
  {
   "cell_type": "code",
   "execution_count": 5,
   "metadata": {
    "ExecuteTime": {
     "start_time": "2024-03-11T18:19:25.763012Z",
     "end_time": "2024-03-11T18:19:25.820653Z"
    }
   },
   "outputs": [],
   "source": [
    "# fh = S3FileHandler(bucket=BUCKET, prefix=PREFIX, profile=PROFILE, s3_endpoint_url=S3_ENDPOINT_URL)\n",
    "# log = DeepRacerLog(filehandler=fh)\n",
    "# log.load_evaluation_trace()"
   ]
  },
  {
   "cell_type": "code",
   "execution_count": 6,
   "metadata": {},
   "outputs": [
    {
     "ename": "Exception",
     "evalue": "No files found in logs/v3-logs or logs/v3-logs/**/evaluation/*-robomaker.log",
     "output_type": "error",
     "traceback": [
      "\u001B[0;31m---------------------------------------------------------------------------\u001B[0m",
      "\u001B[0;31mException\u001B[0m                                 Traceback (most recent call last)",
      "Cell \u001B[0;32mIn[6], line 4\u001B[0m\n\u001B[1;32m      2\u001B[0m fh \u001B[38;5;241m=\u001B[39m FSFileHandler(model_folder\u001B[38;5;241m=\u001B[39m\u001B[38;5;124m'\u001B[39m\u001B[38;5;124mlogs/v3-logs\u001B[39m\u001B[38;5;124m'\u001B[39m)\n\u001B[1;32m      3\u001B[0m log \u001B[38;5;241m=\u001B[39m DeepRacerLog(filehandler\u001B[38;5;241m=\u001B[39mfh)\n\u001B[0;32m----> 4\u001B[0m \u001B[43mlog\u001B[49m\u001B[38;5;241;43m.\u001B[39;49m\u001B[43mload_robomaker_logs\u001B[49m\u001B[43m(\u001B[49m\u001B[38;5;28;43mtype\u001B[39;49m\u001B[38;5;241;43m=\u001B[39;49m\u001B[43mLogType\u001B[49m\u001B[38;5;241;43m.\u001B[39;49m\u001B[43mEVALUATION\u001B[49m\u001B[43m)\u001B[49m\n",
      "File \u001B[0;32m/Library/Frameworks/Python.framework/Versions/3.12/lib/python3.12/site-packages/deepracer/logs/log.py:309\u001B[0m, in \u001B[0;36mDeepRacerLog.load_robomaker_logs\u001B[0;34m(self, type, force)\u001B[0m\n\u001B[1;32m    306\u001B[0m dfs \u001B[38;5;241m=\u001B[39m []\n\u001B[1;32m    308\u001B[0m \u001B[38;5;28;01mif\u001B[39;00m \u001B[38;5;28mtype\u001B[39m \u001B[38;5;241m==\u001B[39m LogType\u001B[38;5;241m.\u001B[39mEVALUATION:\n\u001B[0;32m--> 309\u001B[0m     submissions \u001B[38;5;241m=\u001B[39m \u001B[38;5;28;43mself\u001B[39;49m\u001B[38;5;241;43m.\u001B[39;49m\u001B[43mfh\u001B[49m\u001B[38;5;241;43m.\u001B[39;49m\u001B[43mlist_files\u001B[49m\u001B[43m(\u001B[49m\u001B[43mcheck_exist\u001B[49m\u001B[38;5;241;43m=\u001B[39;49m\u001B[38;5;28;43;01mTrue\u001B[39;49;00m\u001B[43m,\u001B[49m\n\u001B[1;32m    310\u001B[0m \u001B[43m                                     \u001B[49m\u001B[43mfilterexp\u001B[49m\u001B[38;5;241;43m=\u001B[39;49m\u001B[38;5;28;43mself\u001B[39;49m\u001B[38;5;241;43m.\u001B[39;49m\u001B[43mfh\u001B[49m\u001B[38;5;241;43m.\u001B[39;49m\u001B[43mevaluation_robomaker_log_path\u001B[49m\u001B[43m)\u001B[49m\n\u001B[1;32m    311\u001B[0m     splitRegex \u001B[38;5;241m=\u001B[39m re\u001B[38;5;241m.\u001B[39mcompile(\u001B[38;5;28mself\u001B[39m\u001B[38;5;241m.\u001B[39mfh\u001B[38;5;241m.\u001B[39mevaluation_robomaker_split)\n\u001B[1;32m    313\u001B[0m \u001B[38;5;28;01melif\u001B[39;00m \u001B[38;5;28mtype\u001B[39m \u001B[38;5;241m==\u001B[39m LogType\u001B[38;5;241m.\u001B[39mLEADERBOARD:\n",
      "File \u001B[0;32m/Library/Frameworks/Python.framework/Versions/3.12/lib/python3.12/site-packages/deepracer/logs/handler.py:86\u001B[0m, in \u001B[0;36mFSFileHandler.list_files\u001B[0;34m(self, filterexp, check_exist)\u001B[0m\n\u001B[1;32m     84\u001B[0m \u001B[38;5;28;01melse\u001B[39;00m:\n\u001B[1;32m     85\u001B[0m     \u001B[38;5;28;01mif\u001B[39;00m check_exist:\n\u001B[0;32m---> 86\u001B[0m         \u001B[38;5;28;01mraise\u001B[39;00m \u001B[38;5;167;01mException\u001B[39;00m(\u001B[38;5;124m\"\u001B[39m\u001B[38;5;124mNo files found in \u001B[39m\u001B[38;5;132;01m{}\u001B[39;00m\u001B[38;5;124m or \u001B[39m\u001B[38;5;132;01m{}\u001B[39;00m\u001B[38;5;124m\"\u001B[39m\u001B[38;5;241m.\u001B[39mformat(\u001B[38;5;28mself\u001B[39m\u001B[38;5;241m.\u001B[39mmodel_folder, filterexp))\n\u001B[1;32m     87\u001B[0m     \u001B[38;5;28;01melse\u001B[39;00m:\n\u001B[1;32m     88\u001B[0m         \u001B[38;5;28;01mreturn\u001B[39;00m []\n",
      "\u001B[0;31mException\u001B[0m: No files found in logs/v3-logs or logs/v3-logs/**/evaluation/*-robomaker.log"
     ]
    }
   ],
   "source": [
    "# # Example / Alternative for logs on file-system\n",
    "fh = FSFileHandler(model_folder='logs/v3-logs')\n",
    "log = DeepRacerLog(filehandler=fh)\n",
    "log.load_robomaker_logs(type=LogType.EVALUATION)"
   ]
  },
  {
   "cell_type": "code",
   "execution_count": null,
   "metadata": {},
   "outputs": [],
   "source": [
    "df = log.dataframe()"
   ]
  },
  {
   "cell_type": "markdown",
   "metadata": {},
   "source": [
    "## Load waypoints for the track you want to run analysis on\n",
    "The track waypoint files represent the coordinates of characteristic points of the track - the center line, inside border and outside border. Their main purpose is to visualise the track in images below.\n",
    "\n",
    "The naming of the tracks is not super consistent. The ones that we already know have been mapped to their official names in the track_meta dictionary.\n",
    "\n",
    "Some npy files have an 'Eval' suffix. One of the challenges in the past was that the evaluation tracks were different to physical tracks and we have recreated them to enable evaluation. Remeber that evaluation npy files are a community effort to visualise the tracks in the trainings, they aren't 100% accurate.\n",
    "\n",
    "Tracks Available:"
   ]
  },
  {
   "cell_type": "code",
   "execution_count": null,
   "metadata": {},
   "outputs": [],
   "source": [
    "!ls tracks/\n",
    "\n",
    "tu = TrackIO()\n",
    "\n",
    "for track in tu.get_tracks():\n",
    "    print(\"{} - {}\".format(track, track_meta.get(track[:-4], \"I don't know\")))"
   ]
  },
  {
   "cell_type": "markdown",
   "metadata": {},
   "source": [
    "Now let's load the track:"
   ]
  },
  {
   "cell_type": "code",
   "execution_count": null,
   "metadata": {},
   "outputs": [],
   "source": [
    "# We will try to guess the track name first, if it \n",
    "# fails, we'll use the constant in quotes\n",
    "\n",
    "try:\n",
    "    track_name = log.agent_and_network()[\"world\"]\n",
    "except Exception as e:\n",
    "    track_name = \"reinvent_base\"\n",
    "\n",
    "\n",
    "track: Track = tu.load_track(track_name)\n",
    "\n",
    "pu.plot_trackpoints(track)"
   ]
  },
  {
   "cell_type": "code",
   "execution_count": null,
   "metadata": {},
   "outputs": [],
   "source": [
    "simulation_agg = au.simulation_agg(df, 'stream', is_eval=True)\n",
    "complete_ones = simulation_agg[simulation_agg['progress']==100]\n",
    "\n",
    "# This gives the warning about ptp method deprecation. The code looks as if np.ptp was used, I don't know how to fix it.\n",
    "au.scatter_aggregates(simulation_agg, is_eval=True)\n",
    "if complete_ones.shape[0] > 0:\n",
    "    au.scatter_aggregates(complete_ones, \"Complete ones\", is_eval=True)"
   ]
  },
  {
   "cell_type": "markdown",
   "metadata": {},
   "source": [
    "## Data in tables"
   ]
  },
  {
   "cell_type": "code",
   "execution_count": null,
   "metadata": {},
   "outputs": [],
   "source": [
    "# View fifteen most progressed attempts\n",
    "simulation_agg.nlargest(15, 'progress')"
   ]
  },
  {
   "cell_type": "code",
   "execution_count": null,
   "metadata": {},
   "outputs": [],
   "source": [
    "# View fifteen fastest complete laps\n",
    "complete_ones.nsmallest(15, 'time')"
   ]
  },
  {
   "cell_type": "markdown",
   "metadata": {},
   "source": [
    "## Plot all the evaluation laps\n",
    "\n",
    "The method below plots your evaluation attempts. Just note that that is a time consuming operation and therefore I suggest using `min_distance_to_plot` to just plot some of them.\n",
    "\n",
    "If you would like to, in a below section of this article you can load a single log file to evaluate this.\n",
    "\n",
    "In the example below training track data was used for plotting the borders. Since then the community has put a lot of effort into preparing files that resemble the racing ones.\n",
    "\n",
    "If you want to plot a single lap, scroll down for an example which lets you do a couple more tricks."
   ]
  },
  {
   "cell_type": "code",
   "execution_count": null,
   "metadata": {},
   "outputs": [],
   "source": [
    "pu.plot_evaluations(df, track)"
   ]
  },
  {
   "cell_type": "markdown",
   "metadata": {},
   "source": [
    "## Single lap\n",
    "Below you will find some ideas of looking at a single evaluation lap. You may be interested in a specific part of it. This isn't very robust but can work as a starting point. Please submit your ideas for analysis.\n",
    "\n",
    "This place is a great chance to learn more about [Pandas](https://pandas.pydata.org/pandas-docs/stable/) and about how to process data series."
   ]
  },
  {
   "cell_type": "code",
   "execution_count": null,
   "metadata": {},
   "outputs": [],
   "source": [
    "# Load a single lap\n",
    "fastest = complete_ones.nsmallest(1, 'time')[['stream','episode']][0:1]\n",
    "lap_df = df[(df['episode']==fastest.iloc[0,1]) & (df['stream']==fastest.iloc[0,0])]"
   ]
  },
  {
   "cell_type": "markdown",
   "metadata": {},
   "source": [
    "We're adding a lot of columns here to the episode. To speed things up, it's only done per a single episode, so others will currently be missing this information.\n",
    "\n",
    "Now try using them as a `graphed_value` parameter."
   ]
  },
  {
   "cell_type": "code",
   "execution_count": null,
   "metadata": {
    "lines_to_next_cell": 0
   },
   "outputs": [],
   "source": [
    "lap_df.loc[:,'distance']=((lap_df['x'].shift(1)-lap_df['x']) ** 2 + (lap_df['y'].shift(1)-lap_df['y']) ** 2) ** 0.5\n",
    "lap_df.loc[:,'time']=lap_df['tstamp'].astype(float)-lap_df['tstamp'].shift(1).astype(float)\n",
    "lap_df.loc[:,'speed']=lap_df['distance']/(100*lap_df['time'])\n",
    "lap_df.loc[:,'acceleration']=(lap_df['distance']-lap_df['distance'].shift(1))/lap_df['time']\n",
    "lap_df.loc[:,'progress_delta']=lap_df['progress'].astype(float)-lap_df['progress'].shift(1).astype(float)\n",
    "lap_df.loc[:,'progress_delta_per_time']=lap_df['progress_delta']/lap_df['time']\n",
    "\n",
    "pu.plot_grid_world(lap_df, track, graphed_value='reward')"
   ]
  },
  {
   "cell_type": "code",
   "execution_count": null,
   "metadata": {
    "lines_to_next_cell": 2
   },
   "outputs": [],
   "source": []
  }
 ],
 "metadata": {
  "jupytext": {
   "formats": "ipynb,py:light"
  },
  "kernelspec": {
   "display_name": "Python 3 (ipykernel)",
   "language": "python",
   "name": "python3"
  },
  "language_info": {
   "codemirror_mode": {
    "name": "ipython",
    "version": 3
   },
   "file_extension": ".py",
   "mimetype": "text/x-python",
   "name": "python",
   "nbconvert_exporter": "python",
   "pygments_lexer": "ipython3",
   "version": "3.8.10"
  }
 },
 "nbformat": 4,
 "nbformat_minor": 4
}
